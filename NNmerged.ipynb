{
  "cells": [
    {
      "cell_type": "markdown",
      "metadata": {
        "id": "view-in-github",
        "colab_type": "text"
      },
      "source": [
        "<a href=\"https://colab.research.google.com/github/serionii/Neural-Networks-Street-View-Housing-Number-Digit-Recognition/blob/main/NNmerged.ipynb\" target=\"_parent\"><img src=\"https://colab.research.google.com/assets/colab-badge.svg\" alt=\"Open In Colab\"/></a>"
      ]
    },
    {
      "cell_type": "markdown",
      "metadata": {
        "id": "Q91KqmCRu64D"
      },
      "source": [
        "# **Artificial Neural Networks: Street View Housing Number Digit Recognition**\n",
        "\n",
        "--------------\n",
        "### **Context:** \n",
        "--------------\n",
        "\n",
        "One of the most interesting tasks in deep learning is to recognize objects in natural scenes. The ability to process visual information using machine learning algorithms can be very useful as demonstrated in various applications.\n",
        "\n",
        "The SVHN dataset contains over 600,000 labeled digits cropped from street level photos. It is one of the most popular image recognition datasets. It has been used in neural networks created by Google to improve map quality by automatically transcribing the address numbers from a patch of pixels. The transcribed number with a known street address helps pinpoint the location of the building it represents. \n",
        "\n",
        "----------------\n",
        "### **Objective:**\n",
        "----------------\n",
        "\n",
        "Build a feed forward neural network model that can identify the digits in the images. \n",
        "\n",
        "-------------\n",
        "### **Dataset**\n",
        "-------------\n",
        "Here, we will use a subset of the original data to save some computation time. The dataset is provided as a .h5 file. The basic preprocessing steps have been done."
      ]
    },
    {
      "cell_type": "markdown",
      "metadata": {
        "id": "8z2Z7-OAs8QG"
      },
      "source": [
        "## **Mount the drive**\n",
        "Let us start by mounting the drive and importing the necessary libraries."
      ]
    },
    {
      "cell_type": "code",
      "execution_count": null,
      "metadata": {
        "colab": {
          "base_uri": "https://localhost:8080/"
        },
        "id": "03lDyQUuef7z",
        "outputId": "b3239ac5-d503-4f73-a1a2-daa256ab8bed"
      },
      "outputs": [
        {
          "name": "stdout",
          "output_type": "stream",
          "text": [
            "Drive already mounted at /content/drive; to attempt to forcibly remount, call drive.mount(\"/content/drive\", force_remount=True).\n"
          ]
        }
      ],
      "source": [
        "from google.colab import drive\n",
        "drive.mount('/content/drive')"
      ]
    },
    {
      "cell_type": "markdown",
      "metadata": {
        "id": "C8U3DUa3eNsT"
      },
      "source": [
        "## **Importing libraries**"
      ]
    },
    {
      "cell_type": "code",
      "execution_count": null,
      "metadata": {
        "id": "-dVzeuF3eQx1"
      },
      "outputs": [],
      "source": [
        "import numpy as np\n",
        "import pandas as pd\n",
        "import matplotlib.pyplot as plt\n",
        "import seaborn as sns\n",
        "\n",
        "from sklearn.model_selection import train_test_split\n",
        "from sklearn.preprocessing import MinMaxScaler\n",
        "\n",
        "import tensorflow as tf\n",
        "from tensorflow.keras.models import Sequential\n",
        "from tensorflow.keras.layers import Dense, Dropout, Activation, BatchNormalization\n",
        "from tensorflow.keras.utils import to_categorical"
      ]
    },
    {
      "cell_type": "markdown",
      "metadata": {
        "id": "ucnevGLoyKf_"
      },
      "source": [
        "Let us check for the version of TensorFlow."
      ]
    },
    {
      "cell_type": "code",
      "execution_count": null,
      "metadata": {
        "colab": {
          "base_uri": "https://localhost:8080/"
        },
        "id": "W5as47YxyJVk",
        "outputId": "09c705a8-1e56-4998-b1db-89e2cf2b3528"
      },
      "outputs": [
        {
          "name": "stdout",
          "output_type": "stream",
          "text": [
            "2.7.0\n"
          ]
        }
      ],
      "source": [
        "print(tf.__version__)"
      ]
    },
    {
      "cell_type": "markdown",
      "metadata": {
        "id": "8lsux2ZwyTTR"
      },
      "source": [
        "## **Load the dataset**\n",
        "- Let us now load the dataset that is available as a .h5 file.\n",
        "- Split the data into train and the test dataset"
      ]
    },
    {
      "cell_type": "code",
      "execution_count": null,
      "metadata": {
        "id": "BApX9qgNsqV0",
        "scrolled": true
      },
      "outputs": [],
      "source": [
        "import h5py\n",
        "\n",
        "# Open the file as read only\n",
        "# User can make changes in the path as required\n",
        "h5f = h5py.File('/content/drive/MyDrive/ADSP/SVHN_single_grey1.h5', 'r')\n",
        "\n",
        "# Load the training and the test set\n",
        "X_train = h5f['X_train'][:]\n",
        "y_train = h5f['y_train'][:]\n",
        "X_test = h5f['X_test'][:]\n",
        "y_test = h5f['y_test'][:]\n",
        "\n",
        "\n",
        "# Close this file\n",
        "h5f.close()"
      ]
    },
    {
      "cell_type": "markdown",
      "metadata": {
        "id": "hVe0CYpUgj7w"
      },
      "source": [
        "Let's check the number of images in the training and testing data."
      ]
    },
    {
      "cell_type": "code",
      "execution_count": null,
      "metadata": {
        "colab": {
          "base_uri": "https://localhost:8080/"
        },
        "id": "y3lwKpOefkpA",
        "outputId": "98dc2724-10d1-4b17-fc1d-cc958819da15"
      },
      "outputs": [
        {
          "data": {
            "text/plain": [
              "(42000, 18000)"
            ]
          },
          "execution_count": 17,
          "metadata": {},
          "output_type": "execute_result"
        }
      ],
      "source": [
        "len(X_train), len(X_test)"
      ]
    },
    {
      "cell_type": "markdown",
      "metadata": {
        "id": "akTUOfLlgwoM"
      },
      "source": [
        "**Observations**\n",
        "- There are 42,000 images in the training data and 18,000 images in the testing data. "
      ]
    },
    {
      "cell_type": "markdown",
      "metadata": {
        "id": "kxODV6HKykuc"
      },
      "source": [
        "## **Visualizing images**\n",
        "- Use X_train to visualize the first 10 images\n",
        "- Use Y_train to print the first 10 labels"
      ]
    },
    {
      "cell_type": "code",
      "execution_count": null,
      "metadata": {
        "colab": {
          "base_uri": "https://localhost:8080/",
          "height": 95
        },
        "id": "Bvsc8ytHsqWD",
        "outputId": "8c930b06-318a-4d3e-b5e6-85ab97cfff9f"
      },
      "outputs": [
        {
          "data": {
            "image/png": "[encoded data removed]",
            "text/plain": [
              "<Figure size 720x72 with 10 Axes>"
            ]
          },
          "metadata": {
            "needs_background": "light"
          },
          "output_type": "display_data"
        },
        {
          "name": "stdout",
          "output_type": "stream",
          "text": [
            "label for each of the above image: [2 6 7 4 4 0 3 0 7 3]\n"
          ]
        }
      ],
      "source": [
        "# visualizing the first 10 images in the dataset and their labels\n",
        "plt.figure(figsize=(10, 1))\n",
        "\n",
        "for i in range(10):\n",
        "    plt.subplot(1, 10, i+1)\n",
        "    plt.imshow(X_train[i], cmap=\"gray\")\n",
        "    plt.axis('off')\n",
        "\n",
        "plt.show()\n",
        "print('label for each of the above image: %s' % (y_train[0:10]))"
      ]
    },
    {
      "cell_type": "markdown",
      "metadata": {
        "id": "kzoyeXHOy80N"
      },
      "source": [
        "## **Data preparation**\n",
        "\n",
        "- Print the first image in the train image and figure out the shape of the images\n",
        "- Reshape the train and the test dataset to flatten them. Figure out the required shape\n",
        "- Normalise the train and the test dataset by dividing by 255\n",
        "- Print the new shapes of the train and the test set\n",
        "- One-hot encode the target variable"
      ]
    },
    {
      "cell_type": "code",
      "execution_count": null,
      "metadata": {
        "colab": {
          "base_uri": "https://localhost:8080/"
        },
        "id": "NqndzQXng9rL",
        "outputId": "113462ed-92c9-4d42-a75f-221687d9ae9f"
      },
      "outputs": [
        {
          "name": "stdout",
          "output_type": "stream",
          "text": [
            "Shape: (32, 32)\n",
            "\n",
            "First image:\n",
            " [[ 33.0704  30.2601  26.852  ...  71.4471  58.2204  42.9939]\n",
            " [ 25.2283  25.5533  29.9765 ... 113.0209 103.3639  84.2949]\n",
            " [ 26.2775  22.6137  40.4763 ... 113.3028 121.775  115.4228]\n",
            " ...\n",
            " [ 28.5502  36.212   45.0801 ...  24.1359  25.0927  26.0603]\n",
            " [ 38.4352  26.4733  23.2717 ...  28.1094  29.4683  30.0661]\n",
            " [ 50.2984  26.0773  24.0389 ...  49.6682  50.853   53.0377]]\n"
          ]
        }
      ],
      "source": [
        "# Shape of the images and the first image\n",
        "\n",
        "print(\"Shape:\", X_train[0].shape)\n",
        "print()\n",
        "print(\"First image:\\n\", X_train[0])"
      ]
    },
    {
      "cell_type": "code",
      "execution_count": null,
      "metadata": {
        "id": "D9YPwf9ysqWU"
      },
      "outputs": [],
      "source": [
        "# Reshaping the dataset to flatten them. Remember that we are trying to reshape the 2D image data into a 1D array\n",
        "\n",
        "X_train = X_train.reshape(X_train.shape[0], 1024)\n",
        "X_test = X_test.reshape(X_test.shape[0], 1024)"
      ]
    },
    {
      "cell_type": "markdown",
      "metadata": {
        "id": "VxCu9DtrGzH6"
      },
      "source": [
        "#### **Normalize the train and test data**"
      ]
    },
    {
      "cell_type": "code",
      "execution_count": null,
      "metadata": {
        "id": "q_yUUTp_mUzB"
      },
      "outputs": [],
      "source": [
        "# Normalize inputs from 0-255 to 0-1\n",
        "\n",
        "X_train = X_train/255\n",
        "X_test = X_test/255\n"
      ]
    },
    {
      "cell_type": "code",
      "execution_count": null,
      "metadata": {
        "colab": {
          "base_uri": "https://localhost:8080/"
        },
        "id": "t7FSqOpamWkH",
        "outputId": "a34390f9-710f-4a92-8e00-b1f1efde8275"
      },
      "outputs": [
        {
          "name": "stdout",
          "output_type": "stream",
          "text": [
            "Training set: (42000, 1024) (42000,)\n",
            "Test set: (18000, 1024) (18000,)\n"
          ]
        }
      ],
      "source": [
        "# New shape \n",
        "print('Training set:', X_train.shape, y_train.shape)\n",
        "print('Test set:', X_test.shape, y_test.shape)"
      ]
    },
    {
      "cell_type": "code",
      "execution_count": null,
      "metadata": {
        "colab": {
          "base_uri": "https://localhost:8080/"
        },
        "id": "zL0lYER4sqWw",
        "outputId": "5d94ade5-e392-498f-8767-2e9efdb13922"
      },
      "outputs": [
        {
          "data": {
            "text/plain": [
              "array([[0., 1., 0., ..., 0., 0., 0.],\n",
              "       [0., 0., 0., ..., 1., 0., 0.],\n",
              "       [0., 0., 1., ..., 0., 0., 0.],\n",
              "       ...,\n",
              "       [0., 0., 0., ..., 1., 0., 0.],\n",
              "       [0., 0., 0., ..., 0., 0., 1.],\n",
              "       [0., 0., 1., ..., 0., 0., 0.]], dtype=float32)"
            ]
          },
          "execution_count": 125,
          "metadata": {},
          "output_type": "execute_result"
        }
      ],
      "source": [
        "# one hot encode output\n",
        "y_train = to_categorical(y_train)\n",
        "y_test = to_categorical(y_test)\n",
        "\n",
        "# no.of classes\n",
        "y_test"
      ]
    },
    {
      "cell_type": "markdown",
      "metadata": {
        "id": "ViqPOTquCF76"
      },
      "source": [
        "**Observations**\n",
        "- Notice that each entry of y_test is a one-hot encoded vector instead of a single label."
      ]
    },
    {
      "cell_type": "markdown",
      "metadata": {
        "id": "yH-gVrzuByNA"
      },
      "source": [
        "## **Model Building**\n",
        "\n",
        "Now, we have done the data preprocessing, let's build an ANN model."
      ]
    },
    {
      "cell_type": "code",
      "execution_count": null,
      "metadata": {
        "id": "d9ZjN17XGzIA"
      },
      "outputs": [],
      "source": [
        "#Fixing the seed for random number generators\n",
        "np.random.seed(42)\n",
        "import random\n",
        "random.seed(42)\n",
        "tf.random.set_seed(42)"
      ]
    },
    {
      "cell_type": "markdown",
      "metadata": {
        "id": "UJDUoaEj1d6e"
      },
      "source": [
        "### **Model Architecture**\n",
        "- Write a function that returns a sequential model with the following architecture\n",
        " - First hidden layer with **64 nodes and relu activation** and the input shape which is used above\n",
        " - Second hidden layer with **32 nodes and relu activation**\n",
        " - Output layer with **softmax activation and number of nodes equal to the number of classes**\n",
        " -Compile the model with the **categorical_crossentropy loss, adam optimizer (learning_rate = 0.001), and accuracy metric**. Do not fit the model here, just return the compiled model.\n",
        "- Call the function and store the model in a new variable \n",
        "- Print the summary of the model\n",
        "- Fit on the train data with a **validation split of 0.2, batch size = 128, verbose = 1, and 20 epochs**. Store the model building history to use later for visualization."
      ]
    },
    {
      "cell_type": "markdown",
      "metadata": {
        "id": "24NB3aVsGzIC"
      },
      "source": [
        "#### **Build and train a ANN model as per the above mentioned architecture**"
      ]
    },
    {
      "cell_type": "code",
      "execution_count": null,
      "metadata": {
        "id": "Cmi81Gr5sqW-"
      },
      "outputs": [],
      "source": [
        "#Importing losses and optimizers modules\n",
        "from tensorflow.keras import losses\n",
        "from tensorflow.keras import optimizers\n",
        "\n",
        "#Define the function\n",
        "def nn_model_1():\n",
        "    model = Sequential() \n",
        "    model.add(Dense(64, activation='relu', input_shape=(1024,)))\n",
        "    model.add(Dense(32, activation='relu'))\n",
        "    model.add(Dense(10, activation='softmax'))\n",
        "    #Add layers as per the architecture mentioned above in the same sequence\n",
        "    \n",
        "    #declare adam optimizer with learning rate of 0.001 \n",
        "    adam = tf.keras.optimizers.Adam(learning_rate = 0.001)\n",
        "    \n",
        "    #compile the model\n",
        "    model.compile(loss='categorical_crossentropy', optimizer= 'adam', metrics=['accuracy'])\n",
        "    \n",
        "    return model"
      ]
    },
    {
      "cell_type": "code",
      "execution_count": null,
      "metadata": {
        "id": "bGCUI_xsImnH"
      },
      "outputs": [],
      "source": [
        "# Build the model\n",
        "model_1 = nn_model_1()"
      ]
    },
    {
      "cell_type": "code",
      "execution_count": null,
      "metadata": {
        "colab": {
          "base_uri": "https://localhost:8080/"
        },
        "id": "ckJsLdmdQadZ",
        "outputId": "f17bc245-c882-4141-86fe-80321dafd191"
      },
      "outputs": [
        {
          "name": "stdout",
          "output_type": "stream",
          "text": [
            "Model: \"sequential_21\"\n",
            "_________________________________________________________________\n",
            " Layer (type)                Output Shape              Param #   \n",
            "=================================================================\n",
            " dense_51 (Dense)            (None, 64)                65600     \n",
            "                                                                 \n",
            " dense_52 (Dense)            (None, 32)                2080      \n",
            "                                                                 \n",
            " dense_53 (Dense)            (None, 10)                330       \n",
            "                                                                 \n",
            "=================================================================\n",
            "Total params: 68,010\n",
            "Trainable params: 68,010\n",
            "Non-trainable params: 0\n",
            "_________________________________________________________________\n"
          ]
        }
      ],
      "source": [
        "#Print the summary\n",
        "model_1.summary()"
      ]
    },
    {
      "cell_type": "code",
      "execution_count": null,
      "metadata": {
        "colab": {
          "base_uri": "https://localhost:8080/"
        },
        "id": "3Fy3Dif_zcCk",
        "outputId": "1a82c6b2-7e41-4cc9-e9e2-da82fdca778b"
      },
      "outputs": [
        {
          "name": "stdout",
          "output_type": "stream",
          "text": [
            "Epoch 1/20\n",
            "263/263 [==============================] - 2s 8ms/step - loss: 1.2069 - accuracy: 0.6199 - val_loss: 1.1893 - val_accuracy: 0.6283\n",
            "Epoch 2/20\n",
            "263/263 [==============================] - 2s 7ms/step - loss: 1.1790 - accuracy: 0.6323 - val_loss: 1.1799 - val_accuracy: 0.6276\n",
            "Epoch 3/20\n",
            "263/263 [==============================] - 1s 5ms/step - loss: 1.1693 - accuracy: 0.6379 - val_loss: 1.1708 - val_accuracy: 0.6401\n",
            "Epoch 4/20\n",
            "263/263 [==============================] - 1s 5ms/step - loss: 1.1477 - accuracy: 0.6446 - val_loss: 1.1705 - val_accuracy: 0.6344\n",
            "Epoch 5/20\n",
            "263/263 [==============================] - 1s 5ms/step - loss: 1.1383 - accuracy: 0.6461 - val_loss: 1.1304 - val_accuracy: 0.6490\n",
            "Epoch 6/20\n",
            "263/263 [==============================] - 1s 5ms/step - loss: 1.1216 - accuracy: 0.6545 - val_loss: 1.1119 - val_accuracy: 0.6594\n",
            "Epoch 7/20\n",
            "263/263 [==============================] - 1s 5ms/step - loss: 1.1150 - accuracy: 0.6554 - val_loss: 1.1342 - val_accuracy: 0.6481\n",
            "Epoch 8/20\n",
            "263/263 [==============================] - 1s 4ms/step - loss: 1.1014 - accuracy: 0.6637 - val_loss: 1.1055 - val_accuracy: 0.6604\n",
            "Epoch 9/20\n",
            "263/263 [==============================] - 1s 4ms/step - loss: 1.0915 - accuracy: 0.6653 - val_loss: 1.0996 - val_accuracy: 0.6585\n",
            "Epoch 10/20\n",
            "263/263 [==============================] - 1s 5ms/step - loss: 1.0854 - accuracy: 0.6689 - val_loss: 1.0904 - val_accuracy: 0.6663\n",
            "Epoch 11/20\n",
            "263/263 [==============================] - 1s 4ms/step - loss: 1.0750 - accuracy: 0.6716 - val_loss: 1.1061 - val_accuracy: 0.6592\n",
            "Epoch 12/20\n",
            "263/263 [==============================] - 1s 5ms/step - loss: 1.0670 - accuracy: 0.6747 - val_loss: 1.0871 - val_accuracy: 0.6677\n",
            "Epoch 13/20\n",
            "263/263 [==============================] - 1s 5ms/step - loss: 1.0599 - accuracy: 0.6767 - val_loss: 1.0574 - val_accuracy: 0.6770\n",
            "Epoch 14/20\n",
            "263/263 [==============================] - 1s 5ms/step - loss: 1.0556 - accuracy: 0.6783 - val_loss: 1.0808 - val_accuracy: 0.6681\n",
            "Epoch 15/20\n",
            "263/263 [==============================] - 1s 5ms/step - loss: 1.0476 - accuracy: 0.6797 - val_loss: 1.0832 - val_accuracy: 0.6692\n",
            "Epoch 16/20\n",
            "263/263 [==============================] - 1s 5ms/step - loss: 1.0399 - accuracy: 0.6842 - val_loss: 1.0943 - val_accuracy: 0.6613\n",
            "Epoch 17/20\n",
            "263/263 [==============================] - 2s 9ms/step - loss: 1.0328 - accuracy: 0.6879 - val_loss: 1.0583 - val_accuracy: 0.6796\n",
            "Epoch 18/20\n",
            "263/263 [==============================] - 2s 7ms/step - loss: 1.0310 - accuracy: 0.6871 - val_loss: 1.0445 - val_accuracy: 0.6857\n",
            "Epoch 19/20\n",
            "263/263 [==============================] - 2s 7ms/step - loss: 1.0245 - accuracy: 0.6885 - val_loss: 1.0387 - val_accuracy: 0.6860\n",
            "Epoch 20/20\n",
            "263/263 [==============================] - 2s 9ms/step - loss: 1.0221 - accuracy: 0.6906 - val_loss: 1.0395 - val_accuracy: 0.6845\n"
          ]
        }
      ],
      "source": [
        "# Fit the model\n",
        "history_model_1 = model_1.fit(X_train, \n",
        "                              y_train,\n",
        "                              epochs=20,\n",
        "                              verbose=1,\n",
        "                              validation_split=0.2,\n",
        "                              batch_size=128)"
      ]
    },
    {
      "cell_type": "markdown",
      "metadata": {
        "id": "tKOckG-KPyLg"
      },
      "source": [
        "### **Plotting the validation and training accuracies**"
      ]
    },
    {
      "cell_type": "code",
      "execution_count": null,
      "metadata": {
        "colab": {
          "base_uri": "https://localhost:8080/",
          "height": 497
        },
        "id": "lt77zgGMP4yw",
        "outputId": "58114d5a-d422-4c1f-8c37-b7930c41cf61"
      },
      "outputs": [
        {
          "data": {
            "image/png": "[encoded data removed]",
            "text/plain": [
              "<Figure size 576x576 with 1 Axes>"
            ]
          },
          "metadata": {
            "needs_background": "light"
          },
          "output_type": "display_data"
        }
      ],
      "source": [
        "# plotting the accuracies\n",
        "\n",
        "dict_hist = history_model_1.history\n",
        "list_ep = [i for i in range(1,21)]\n",
        "\n",
        "plt.figure(figsize = (8,8))\n",
        "plt.plot(list_ep,dict_hist['accuracy'],ls = '--', label = 'accuracy')\n",
        "plt.plot(list_ep,dict_hist['val_accuracy'],ls = '--', label = 'val_accuracy')\n",
        "plt.ylabel('Accuracy')\n",
        "plt.xlabel('Epochs')\n",
        "plt.legend()\n",
        "plt.show()"
      ]
    },
    {
      "cell_type": "markdown",
      "metadata": {
        "id": "pGBbQpLONX7k"
      },
      "source": [
        "**Observations:**\n",
        "\n",
        "* The model is quite poorly on the validation data with an accuracy of 69% on both the training and validation data and hence, there is a sign of overfitting.\n",
        "* The validation accuracy increases as epoch increases though the validation accuracy is still relatively low throughout all the epochs."
      ]
    },
    {
      "cell_type": "markdown",
      "metadata": {
        "id": "z0qgLMBZm5-K"
      },
      "source": [
        "\n",
        "Let's build one more model with higher complexity and see if we can improve the performance of the model. \n",
        "\n",
        "First, we need to clear the previous model's history from the keras backend. Also, let's fix the seed again after clearing the backend."
      ]
    },
    {
      "cell_type": "code",
      "execution_count": null,
      "metadata": {
        "id": "y98BpLxsok_H"
      },
      "outputs": [],
      "source": [
        "#Clearing backend\n",
        "from tensorflow.keras import backend\n",
        "backend.clear_session()"
      ]
    },
    {
      "cell_type": "code",
      "execution_count": null,
      "metadata": {
        "id": "HbKi93HTolGW"
      },
      "outputs": [],
      "source": [
        "#Fixing the seed for random number generators\n",
        "np.random.seed(42)\n",
        "import random\n",
        "random.seed(42)\n",
        "tf.random.set_seed(42)"
      ]
    },
    {
      "cell_type": "markdown",
      "metadata": {
        "id": "lT6o3TIKuCtk"
      },
      "source": [
        "### **Second Model Architecture**\n",
        "- Write a function that returns a sequential model with the following architecture\n",
        " - First hidden layer with **256 nodes and relu activation**\n",
        " - Second hidden layer with **128 nodes and relu activation**\n",
        " - Add the **Dropout layer with rate equal to 0.2**\n",
        " - Third hidden layer with **64 nodes and relu activation**\n",
        " - Fourth hidden layer with **64 nodes and relu activation**\n",
        " - Fifth hidden layer with **32 nodes and relu activation**\n",
        " - Add the **BatchNormalization layer**\n",
        " - Output layer with **softmax activation and number of nodes equal to the number of classes**\n",
        " -Compile the model with the **categorical_crossentropy loss, adam optimizer (learning_rate = 0.0005), and accuracy metric**. Do not fit the model here, just return the compiled model.\n",
        "- Call the function and store the model in a new variable \n",
        "- Print the summary of the model\n",
        "- Fit on the train data with a **validation split of 0.2, batch size = 128, verbose = 1, and 30 epochs**. Store the model building history to use later for visualization."
      ]
    },
    {
      "cell_type": "markdown",
      "metadata": {
        "id": "4dV32YjAGzIR"
      },
      "source": [
        "#### **Build and train the new ANN model as per the above mentioned architecture**"
      ]
    },
    {
      "cell_type": "code",
      "execution_count": null,
      "metadata": {
        "id": "EEPYLFIPnSDP"
      },
      "outputs": [],
      "source": [
        "#Importing losses and optimizers modules\n",
        "from tensorflow.keras import losses\n",
        "from tensorflow.keras import optimizers\n",
        "\n",
        "#Define the function\n",
        "def nn_model_2():\n",
        "    model = Sequential() \n",
        "    model.add(Dense(256, activation='relu'))\n",
        "    model.add(Dense(128, activation='relu'))\n",
        "    model.add(Dropout(0.2))\n",
        "    model.add(Dense(64, activation='relu'))\n",
        "    model.add(Dense(64, activation='relu'))\n",
        "    model.add(Dense(32, activation='relu'))\n",
        "    model.add(BatchNormalization())\n",
        "    model.add(Dense(10, activation='softmax'))\n",
        "    #Add layers as per the architecture mentioned above in the same sequence\n",
        "    \n",
        "    #declare adam optimizer with learning rate of 0.0005 \n",
        "    adam = tf.keras.optimizers.Adam(learning_rate = 0.0005)\n",
        "    \n",
        "    #compile the model\n",
        "    model.compile(loss='categorical_crossentropy', optimizer= 'adam', metrics=['accuracy'])\n",
        "    \n",
        "    return model"
      ]
    },
    {
      "cell_type": "code",
      "execution_count": null,
      "metadata": {
        "id": "AKjDY4plnSFl"
      },
      "outputs": [],
      "source": [
        "# Build the model\n",
        "model_2 = nn_model_2()"
      ]
    },
    {
      "cell_type": "code",
      "execution_count": null,
      "metadata": {
        "colab": {
          "base_uri": "https://localhost:8080/"
        },
        "id": "gz_6SVrU2swZ",
        "outputId": "404108be-8db3-4019-b9db-6a9655aee7a3"
      },
      "outputs": [
        {
          "name": "stdout",
          "output_type": "stream",
          "text": [
            "Model: \"sequential_25\"\n",
            "_________________________________________________________________\n",
            " Layer (type)                Output Shape              Param #   \n",
            "=================================================================\n",
            " dense_69 (Dense)            (42000, 256)              262400    \n",
            "                                                                 \n",
            " dense_70 (Dense)            (42000, 128)              32896     \n",
            "                                                                 \n",
            " dropout_3 (Dropout)         (42000, 128)              0         \n",
            "                                                                 \n",
            " dense_71 (Dense)            (42000, 64)               8256      \n",
            "                                                                 \n",
            " dense_72 (Dense)            (42000, 64)               4160      \n",
            "                                                                 \n",
            " dense_73 (Dense)            (42000, 32)               2080      \n",
            "                                                                 \n",
            " batch_normalization (BatchN  (42000, 32)              128       \n",
            " ormalization)                                                   \n",
            "                                                                 \n",
            " dense_74 (Dense)            (42000, 10)               330       \n",
            "                                                                 \n",
            "=================================================================\n",
            "Total params: 310,250\n",
            "Trainable params: 310,186\n",
            "Non-trainable params: 64\n",
            "_________________________________________________________________\n"
          ]
        }
      ],
      "source": [
        "#Print the model summary\n",
        "model_2.summary()"
      ]
    },
    {
      "cell_type": "code",
      "execution_count": null,
      "metadata": {
        "colab": {
          "base_uri": "https://localhost:8080/"
        },
        "id": "IQ0Sc4R-y-uu",
        "outputId": "8474fe8b-15a9-4a5c-8a99-05856880f4ae"
      },
      "outputs": [
        {
          "name": "stdout",
          "output_type": "stream",
          "text": [
            "Epoch 1/30\n",
            "263/263 [==============================] - 4s 11ms/step - loss: 2.3354 - accuracy: 0.1042 - val_loss: 2.3127 - val_accuracy: 0.0976\n",
            "Epoch 2/30\n",
            "263/263 [==============================] - 3s 11ms/step - loss: 2.3041 - accuracy: 0.1020 - val_loss: 2.3021 - val_accuracy: 0.1063\n",
            "Epoch 3/30\n",
            "263/263 [==============================] - 3s 10ms/step - loss: 2.1867 - accuracy: 0.1581 - val_loss: 2.1226 - val_accuracy: 0.1846\n",
            "Epoch 4/30\n",
            "263/263 [==============================] - 3s 11ms/step - loss: 1.7688 - accuracy: 0.3635 - val_loss: 1.6433 - val_accuracy: 0.4377\n",
            "Epoch 5/30\n",
            "263/263 [==============================] - 3s 10ms/step - loss: 1.4671 - accuracy: 0.5013 - val_loss: 1.3701 - val_accuracy: 0.5352\n",
            "Epoch 6/30\n",
            "263/263 [==============================] - 3s 11ms/step - loss: 1.3005 - accuracy: 0.5716 - val_loss: 1.2047 - val_accuracy: 0.6049\n",
            "Epoch 7/30\n",
            "263/263 [==============================] - 3s 11ms/step - loss: 1.1854 - accuracy: 0.6133 - val_loss: 1.1175 - val_accuracy: 0.6336\n",
            "Epoch 8/30\n",
            "263/263 [==============================] - 3s 11ms/step - loss: 1.1307 - accuracy: 0.6340 - val_loss: 1.0613 - val_accuracy: 0.6645\n",
            "Epoch 9/30\n",
            "263/263 [==============================] - 3s 13ms/step - loss: 1.0804 - accuracy: 0.6543 - val_loss: 1.0720 - val_accuracy: 0.6564\n",
            "Epoch 10/30\n",
            "263/263 [==============================] - 5s 17ms/step - loss: 1.0355 - accuracy: 0.6684 - val_loss: 1.1501 - val_accuracy: 0.6326\n",
            "Epoch 11/30\n",
            "263/263 [==============================] - 5s 18ms/step - loss: 1.0139 - accuracy: 0.6788 - val_loss: 1.0248 - val_accuracy: 0.6745\n",
            "Epoch 12/30\n",
            "263/263 [==============================] - 6s 22ms/step - loss: 0.9872 - accuracy: 0.6844 - val_loss: 1.0221 - val_accuracy: 0.6735\n",
            "Epoch 13/30\n",
            "263/263 [==============================] - 3s 13ms/step - loss: 0.9578 - accuracy: 0.6938 - val_loss: 0.9630 - val_accuracy: 0.6943\n",
            "Epoch 14/30\n",
            "263/263 [==============================] - 3s 11ms/step - loss: 0.9499 - accuracy: 0.6996 - val_loss: 0.9777 - val_accuracy: 0.6904\n",
            "Epoch 15/30\n",
            "263/263 [==============================] - 3s 11ms/step - loss: 0.9241 - accuracy: 0.7075 - val_loss: 0.8971 - val_accuracy: 0.7229\n",
            "Epoch 16/30\n",
            "263/263 [==============================] - 3s 11ms/step - loss: 0.9132 - accuracy: 0.7115 - val_loss: 0.9550 - val_accuracy: 0.6939\n",
            "Epoch 17/30\n",
            "263/263 [==============================] - 3s 11ms/step - loss: 0.8930 - accuracy: 0.7170 - val_loss: 0.8597 - val_accuracy: 0.7298\n",
            "Epoch 18/30\n",
            "263/263 [==============================] - 4s 16ms/step - loss: 0.8707 - accuracy: 0.7235 - val_loss: 0.8493 - val_accuracy: 0.7380\n",
            "Epoch 19/30\n",
            "263/263 [==============================] - 5s 19ms/step - loss: 0.8708 - accuracy: 0.7236 - val_loss: 0.8950 - val_accuracy: 0.7140\n",
            "Epoch 20/30\n",
            "263/263 [==============================] - 4s 17ms/step - loss: 0.8605 - accuracy: 0.7265 - val_loss: 0.9662 - val_accuracy: 0.6936\n",
            "Epoch 21/30\n",
            "263/263 [==============================] - 4s 16ms/step - loss: 0.8516 - accuracy: 0.7279 - val_loss: 0.8522 - val_accuracy: 0.7345\n",
            "Epoch 22/30\n",
            "263/263 [==============================] - 3s 11ms/step - loss: 0.8462 - accuracy: 0.7287 - val_loss: 0.8609 - val_accuracy: 0.7298\n",
            "Epoch 23/30\n",
            "263/263 [==============================] - 3s 11ms/step - loss: 0.8358 - accuracy: 0.7332 - val_loss: 0.8425 - val_accuracy: 0.7356\n",
            "Epoch 24/30\n",
            "263/263 [==============================] - 3s 11ms/step - loss: 0.8249 - accuracy: 0.7369 - val_loss: 0.8210 - val_accuracy: 0.7385\n",
            "Epoch 25/30\n",
            "263/263 [==============================] - 3s 11ms/step - loss: 0.8204 - accuracy: 0.7386 - val_loss: 0.8102 - val_accuracy: 0.7456\n",
            "Epoch 26/30\n",
            "263/263 [==============================] - 4s 13ms/step - loss: 0.8154 - accuracy: 0.7404 - val_loss: 0.7977 - val_accuracy: 0.7486\n",
            "Epoch 27/30\n",
            "263/263 [==============================] - 4s 17ms/step - loss: 0.7957 - accuracy: 0.7476 - val_loss: 0.8276 - val_accuracy: 0.7420\n",
            "Epoch 28/30\n",
            "263/263 [==============================] - 4s 17ms/step - loss: 0.8013 - accuracy: 0.7446 - val_loss: 0.8127 - val_accuracy: 0.7430\n",
            "Epoch 29/30\n",
            "263/263 [==============================] - 4s 15ms/step - loss: 0.7883 - accuracy: 0.7485 - val_loss: 0.7831 - val_accuracy: 0.7549\n",
            "Epoch 30/30\n",
            "263/263 [==============================] - 3s 11ms/step - loss: 0.7821 - accuracy: 0.7511 - val_loss: 0.8050 - val_accuracy: 0.7468\n"
          ]
        }
      ],
      "source": [
        "# Fit the model\n",
        "history_model_2 = model_2.fit(X_train, \n",
        "                              y_train,\n",
        "                              epochs=30,\n",
        "                              verbose=1,\n",
        "                              validation_split=0.2,\n",
        "                              batch_size=128)"
      ]
    },
    {
      "cell_type": "markdown",
      "metadata": {
        "id": "qtE4DFxdGzIT"
      },
      "source": [
        "### **Plotting the validation and training accuracies**"
      ]
    },
    {
      "cell_type": "code",
      "execution_count": null,
      "metadata": {
        "colab": {
          "base_uri": "https://localhost:8080/",
          "height": 497
        },
        "id": "01ig6BrF1KVy",
        "outputId": "5567e687-e726-4acd-b76a-8e37ac9da377"
      },
      "outputs": [
        {
          "data": {
            "image/png": "[encoded data removed]",
            "text/plain": [
              "<Figure size 576x576 with 1 Axes>"
            ]
          },
          "metadata": {
            "needs_background": "light"
          },
          "output_type": "display_data"
        }
      ],
      "source": [
        "# plotting the accuracies\n",
        "\n",
        "dict_hist = history_model_2.history\n",
        "list_ep = [i for i in range(1,31)]\n",
        "\n",
        "plt.figure(figsize = (8,8))\n",
        "plt.plot(list_ep,dict_hist['accuracy'],ls = '--', label = 'accuracy')\n",
        "plt.plot(list_ep,dict_hist['val_accuracy'],ls = '--', label = 'val_accuracy')\n",
        "plt.ylabel('Accuracy')\n",
        "plt.xlabel('Epochs')\n",
        "plt.legend()\n",
        "plt.show()"
      ]
    },
    {
      "cell_type": "markdown",
      "metadata": {
        "id": "VPW1LlD61RDn"
      },
      "source": [
        "**Observations:**\n",
        "\n",
        "* We can see that our new model is working performing substantially better on the validation data and overfitting has been reduced.\n",
        "* The validation accuracy has significantly increased compared to our previous model giving us a 75% accuracy on both the training and validation data.\n",
        "* The validation accuracy is closer to the training accuracy. This indicates that the model is giving a generalized performance.\n",
        "* In some epochs, the validation accuracy is higher than the training accuracy. This might due to the small size of the validation set and the model is able is to correctly classify the data points in the validation set."
      ]
    },
    {
      "cell_type": "markdown",
      "metadata": {
        "id": "8kuXx9Bvu00f"
      },
      "source": [
        "## **Predictions on the test data**\n",
        "\n",
        "- Make predictions on the test set using the second model\n",
        "- Print the obtained results using the classification report and the confusion matrix\n",
        "- Final observations from the obtained results"
      ]
    },
    {
      "cell_type": "code",
      "execution_count": null,
      "metadata": {
        "id": "xbWMEtTj5Ad0"
      },
      "outputs": [],
      "source": [
        "test_pred = model_2.predict(X_test)\n",
        "\n",
        "test_pred = np.argmax(test_pred, axis=-1)"
      ]
    },
    {
      "cell_type": "markdown",
      "metadata": {
        "id": "i3li8Ib08yts"
      },
      "source": [
        "**Note:** Earlier, we noticed that each entry of the test data is a one-hot encoded vector but to print the classification report and confusion matrix, we must convert each entry of y_test to a single label."
      ]
    },
    {
      "cell_type": "code",
      "execution_count": null,
      "metadata": {
        "id": "NByu7uAQ8x9P"
      },
      "outputs": [],
      "source": [
        "#Converting each entry to single label from one-hot encoded vector\n",
        "y_test = np.argmax(y_test, axis=-1)"
      ]
    },
    {
      "cell_type": "markdown",
      "metadata": {
        "id": "JVxGB0qaGzIY"
      },
      "source": [
        "#### **Print the classification report and the confusion matrix for the test predictions.**"
      ]
    },
    {
      "cell_type": "code",
      "execution_count": null,
      "metadata": {
        "colab": {
          "base_uri": "https://localhost:8080/",
          "height": 629
        },
        "id": "xRddeJ-3EHT1",
        "outputId": "756255f9-a4e5-4c91-c36c-78741e66750d"
      },
      "outputs": [
        {
          "name": "stdout",
          "output_type": "stream",
          "text": [
            "              precision    recall  f1-score   support\n",
            "\n",
            "           0       0.83      0.73      0.77      1814\n",
            "           1       0.65      0.86      0.74      1828\n",
            "           2       0.72      0.79      0.76      1803\n",
            "           3       0.76      0.67      0.71      1719\n",
            "           4       0.86      0.77      0.81      1812\n",
            "           5       0.78      0.69      0.73      1768\n",
            "           6       0.78      0.74      0.76      1832\n",
            "           7       0.73      0.83      0.78      1808\n",
            "           8       0.72      0.69      0.70      1812\n",
            "           9       0.74      0.72      0.73      1804\n",
            "\n",
            "    accuracy                           0.75     18000\n",
            "   macro avg       0.76      0.75      0.75     18000\n",
            "weighted avg       0.76      0.75      0.75     18000\n",
            "\n"
          ]
        },
        {
          "data": {
            "image/png": "[encoded data removed]",
            "text/plain": [
              "<Figure size 576x360 with 2 Axes>"
            ]
          },
          "metadata": {
            "needs_background": "light"
          },
          "output_type": "display_data"
        }
      ],
      "source": [
        "#importing required functions\n",
        "from sklearn.metrics import classification_report\n",
        "from sklearn.metrics import confusion_matrix\n",
        "\n",
        "#Printing the classification report\n",
        "print(classification_report(y_test, test_pred))\n",
        "\n",
        "#Plotting the heatmap using confusion matrix\n",
        "cm = confusion_matrix(y_test, test_pred) #Write the code for creating confusion matrix using actual labels and predicted labels\n",
        "\n",
        "plt.figure(figsize=(8,5))\n",
        "sns.heatmap(cm, annot=True,  fmt='.0f')\n",
        "plt.ylabel('Actual')\n",
        "plt.xlabel('Predicted')\n",
        "plt.show()"
      ]
    },
    {
      "cell_type": "markdown",
      "metadata": {
        "id": "DjErl4GA2u9s"
      },
      "source": [
        "#### **Observations:**\n",
        "\n",
        "* The model is giving about 75% accuracy on the test data which is comparable to the accuracy of the validation data. Hence, our model is giving a generalized performance.\n",
        "* The recall has a high range meaning that the model is good at identifying some digits while it performs poorly at identifying other digits.\n",
        "* The model is majorly confused with the digit 2 and 7 as it predicts that some 2's are 7's, which is understandable as those two digits could look similar.\n",
        "* The highest precision is 4 meaning that our model is able to distinguish the digit 4 from other digits.\n"
      ]
    },
    {
      "cell_type": "markdown",
      "metadata": {
        "id": "woo-sV4pY01n"
      },
      "source": [
        "# **Convolutional Neural Networks: Street View Housing Number Digit Recognition**\n",
        "\n",
        "--------------\n",
        "### **Context:** \n",
        "--------------\n",
        "\n",
        "One of the most interesting tasks in deep learning is to recognize objects in natural scenes. The ability to process visual information using machine learning algorithms can be very useful as demonstrated in various applications.\n",
        "\n",
        "The SVHN dataset contains over 600,000 labeled digits cropped from street-level photos. It is one of the most popular image recognition datasets. It has been used in neural networks created by Google to improve map quality by automatically transcribing the address numbers from a patch of pixels. The transcribed number with a known street address helps pinpoint the location of the building it represents. \n",
        "\n",
        "----------------\n",
        "### **Objective:**\n",
        "----------------\n",
        "\n",
        "Build a CNN model that can identify the digits in the images.\n",
        "\n",
        "-------------\n",
        "### **Dataset**\n",
        "-------------\n",
        "Here, we will use a subset of the original data to save some computation time. The dataset is provided as a .h5 file. The basic preprocessing steps have been done."
      ]
    },
    {
      "cell_type": "markdown",
      "metadata": {
        "id": "ANLNBfyBY01o"
      },
      "source": [
        "## **Mount the drive**\n",
        "Let us start by mounting the drive and importing the necessary libraries."
      ]
    },
    {
      "cell_type": "code",
      "execution_count": null,
      "metadata": {
        "colab": {
          "base_uri": "https://localhost:8080/"
        },
        "outputId": "0b2fa65b-c701-42cb-c707-56fb434f5fb4",
        "id": "9D-GolEeY01o"
      },
      "outputs": [
        {
          "name": "stdout",
          "output_type": "stream",
          "text": [
            "Drive already mounted at /content/drive; to attempt to forcibly remount, call drive.mount(\"/content/drive\", force_remount=True).\n"
          ]
        }
      ],
      "source": [
        "from google.colab import drive\n",
        "drive.mount('/content/drive')"
      ]
    },
    {
      "cell_type": "markdown",
      "metadata": {
        "id": "hfNqgDyTY01o"
      },
      "source": [
        "## **Importing libraries**"
      ]
    },
    {
      "cell_type": "code",
      "execution_count": null,
      "metadata": {
        "id": "nKjvzcqrY01o"
      },
      "outputs": [],
      "source": [
        "import numpy as np\n",
        "import pandas as pd\n",
        "import matplotlib.pyplot as plt\n",
        "import seaborn as sns\n",
        "\n",
        "from sklearn.model_selection import train_test_split\n",
        "from sklearn.preprocessing import MinMaxScaler\n",
        "\n",
        "import tensorflow as tf\n",
        "from tensorflow.keras.models import Sequential\n",
        "from tensorflow.keras.layers import Dense, Conv2D, MaxPool2D, BatchNormalization, Dropout, Flatten, LeakyReLU\n",
        "from tensorflow.keras.utils import to_categorical"
      ]
    },
    {
      "cell_type": "markdown",
      "metadata": {
        "id": "Wllk6_KXY01p"
      },
      "source": [
        "Let us check for the version of TensorFlow."
      ]
    },
    {
      "cell_type": "code",
      "execution_count": null,
      "metadata": {
        "colab": {
          "base_uri": "https://localhost:8080/"
        },
        "outputId": "b92a0436-6333-4e08-be83-573a4c0ceae6",
        "id": "lx2BPGIKY01p"
      },
      "outputs": [
        {
          "name": "stdout",
          "output_type": "stream",
          "text": [
            "2.7.0\n"
          ]
        }
      ],
      "source": [
        "print(tf.__version__)"
      ]
    },
    {
      "cell_type": "markdown",
      "metadata": {
        "id": "1AgRQKO_Y01p"
      },
      "source": [
        "## **Load the dataset**\n",
        "- Let us now load the dataset that is available as a .h5 file.\n",
        "- Split the data into train and the test dataset"
      ]
    },
    {
      "cell_type": "code",
      "execution_count": null,
      "metadata": {
        "scrolled": true,
        "id": "l6260ExZY01p"
      },
      "outputs": [],
      "source": [
        "import h5py\n",
        "\n",
        "# Open the file as read only\n",
        "# User can make changes in the path as required\n",
        "h5f = h5py.File('/content/drive/MyDrive/ADSP/SVHN_single_grey1.h5', 'r')\n",
        "\n",
        "# Load the training and the test set\n",
        "X_train = h5f['X_train'][:]\n",
        "y_train = h5f['y_train'][:]\n",
        "X_test = h5f['X_test'][:]\n",
        "y_test = h5f['y_test'][:]\n",
        "\n",
        "\n",
        "# Close this file\n",
        "h5f.close()"
      ]
    },
    {
      "cell_type": "markdown",
      "metadata": {
        "id": "N8COERQ6Y01r"
      },
      "source": [
        "Let's check the number of images in the training and testing data."
      ]
    },
    {
      "cell_type": "code",
      "execution_count": null,
      "metadata": {
        "colab": {
          "base_uri": "https://localhost:8080/"
        },
        "outputId": "11e69844-b31a-42b5-c05d-a742325cd9c8",
        "id": "D2KR5BoYY01r"
      },
      "outputs": [
        {
          "data": {
            "text/plain": [
              "(42000, 18000)"
            ]
          },
          "execution_count": 87,
          "metadata": {},
          "output_type": "execute_result"
        }
      ],
      "source": [
        "len(X_train), len(X_test)"
      ]
    },
    {
      "cell_type": "markdown",
      "metadata": {
        "id": "dxSsOXJxY01s"
      },
      "source": [
        "**Observations**\n",
        "- There are 42,000 images in the training data and 18,000 images in the testing data. "
      ]
    },
    {
      "cell_type": "markdown",
      "metadata": {
        "id": "5MAxZpWLY01s"
      },
      "source": [
        "## **Visualizing images**\n",
        "- Use X_train to visualize the first 10 images\n",
        "- Use Y_train to print the first 10 labels"
      ]
    },
    {
      "cell_type": "markdown",
      "metadata": {
        "id": "Rn5IZYv-e2TC"
      },
      "source": [
        "#### **Visualize the first 10 images from the training data**"
      ]
    },
    {
      "cell_type": "code",
      "execution_count": null,
      "metadata": {
        "colab": {
          "base_uri": "https://localhost:8080/",
          "height": 96
        },
        "outputId": "d70e4f47-8040-4a4d-e257-917d69a42123",
        "id": "NexZPNlJY01t"
      },
      "outputs": [
        {
          "data": {
            "image/png": "[encoded data removed]",
            "text/plain": [
              "<Figure size 720x72 with 10 Axes>"
            ]
          },
          "metadata": {
            "needs_background": "light"
          },
          "output_type": "display_data"
        },
        {
          "name": "stdout",
          "output_type": "stream",
          "text": [
            "label for each of the above image: [2 6 7 4 4 0 3 0 7 3]\n"
          ]
        }
      ],
      "source": [
        "# visualizing the first 10 images in the dataset and their labels\n",
        "plt.figure(figsize=(10, 1))\n",
        "\n",
        "for i in range(10):\n",
        "    plt.subplot(1, 10, i+1)\n",
        "    plt.imshow(X_train[i], cmap=\"gray\") # write the function to visualize images\n",
        "    plt.axis('off')\n",
        "\n",
        "plt.show()\n",
        "print('label for each of the above image: %s' % (y_train[0:10]))"
      ]
    },
    {
      "cell_type": "markdown",
      "metadata": {
        "id": "wEC3xUBNY01t"
      },
      "source": [
        "## **Data Preparation**\n",
        "\n",
        "- Print the first image in the train image and figure out the shape of the images\n",
        "- Reshape the train and the test dataset to make them fit the first convolutional operation that we will create later. Figure out the required shape\n",
        "- Normalize the train and the test dataset by dividing by 255\n",
        "- Print the new shapes of the train and the test set\n",
        "- One-hot encode the target variable"
      ]
    },
    {
      "cell_type": "code",
      "execution_count": null,
      "metadata": {
        "colab": {
          "base_uri": "https://localhost:8080/"
        },
        "outputId": "86008c24-6a6c-4b95-bd9e-d2e754b8dc17",
        "id": "aBChQRvCY01u"
      },
      "outputs": [
        {
          "name": "stdout",
          "output_type": "stream",
          "text": [
            "Shape: (32, 32)\n",
            "\n",
            "First image:\n",
            " [[ 33.0704  30.2601  26.852  ...  71.4471  58.2204  42.9939]\n",
            " [ 25.2283  25.5533  29.9765 ... 113.0209 103.3639  84.2949]\n",
            " [ 26.2775  22.6137  40.4763 ... 113.3028 121.775  115.4228]\n",
            " ...\n",
            " [ 28.5502  36.212   45.0801 ...  24.1359  25.0927  26.0603]\n",
            " [ 38.4352  26.4733  23.2717 ...  28.1094  29.4683  30.0661]\n",
            " [ 50.2984  26.0773  24.0389 ...  49.6682  50.853   53.0377]]\n"
          ]
        }
      ],
      "source": [
        "# Shape of the images and the first image\n",
        "\n",
        "print(\"Shape:\", X_train[0].shape)\n",
        "print()\n",
        "print(\"First image:\\n\", X_train[0])"
      ]
    },
    {
      "cell_type": "code",
      "execution_count": null,
      "metadata": {
        "id": "Cth6agwlY01u"
      },
      "outputs": [],
      "source": [
        "# Reshaping the dataset to flatten them. Remember that we always have to give a 4D array as input to CNNs\n",
        "\n",
        "X_train = X_train.reshape(X_train.shape[0], 32,32,1)\n",
        "X_test = X_test.reshape(X_test.shape[0], 32,32,1)"
      ]
    },
    {
      "cell_type": "code",
      "execution_count": null,
      "metadata": {
        "id": "Y_6UjUDWY01u"
      },
      "outputs": [],
      "source": [
        "# Normalize inputs from 0-255 to 0-1\n",
        "\n",
        "X_train = X_train / 255.0\n",
        "X_test = X_test / 255.0"
      ]
    },
    {
      "cell_type": "code",
      "execution_count": null,
      "metadata": {
        "colab": {
          "base_uri": "https://localhost:8080/"
        },
        "outputId": "17658a7d-0a28-4825-fba3-b4020cb6ee69",
        "id": "od5zrOERY01u"
      },
      "outputs": [
        {
          "name": "stdout",
          "output_type": "stream",
          "text": [
            "Training set: (42000, 32, 32, 1) (42000,)\n",
            "Test set: (18000, 32, 32, 1) (18000,)\n"
          ]
        }
      ],
      "source": [
        "# New shape \n",
        "\n",
        "print('Training set:', X_train.shape, y_train.shape)\n",
        "print('Test set:', X_test.shape, y_test.shape)"
      ]
    },
    {
      "cell_type": "markdown",
      "metadata": {
        "id": "YP92jacue2TE"
      },
      "source": [
        "#### **One-hot encode the labels in the target variable y_train and y_test)**"
      ]
    },
    {
      "cell_type": "code",
      "execution_count": null,
      "metadata": {
        "colab": {
          "base_uri": "https://localhost:8080/"
        },
        "outputId": "7b1b4da0-721c-4d7b-b620-eb8094318c7c",
        "id": "yUMd6MTyY01v"
      },
      "outputs": [
        {
          "data": {
            "text/plain": [
              "array([[0., 1., 0., ..., 0., 0., 0.],\n",
              "       [0., 0., 0., ..., 1., 0., 0.],\n",
              "       [0., 0., 1., ..., 0., 0., 0.],\n",
              "       ...,\n",
              "       [0., 0., 0., ..., 1., 0., 0.],\n",
              "       [0., 0., 0., ..., 0., 0., 1.],\n",
              "       [0., 0., 1., ..., 0., 0., 0.]], dtype=float32)"
            ]
          },
          "execution_count": 93,
          "metadata": {},
          "output_type": "execute_result"
        }
      ],
      "source": [
        "#Write the function and appropriate variable name to one-hot encode the output\n",
        "\n",
        "y_train = to_categorical(y_train)\n",
        "y_test = to_categorical(y_test)\n",
        "\n",
        "#test labels\n",
        "y_test"
      ]
    },
    {
      "cell_type": "markdown",
      "metadata": {
        "id": "qMwP2gZVY01v"
      },
      "source": [
        "- Notice that each entry of y_test is a one-hot encoded vector instead of a single label."
      ]
    },
    {
      "cell_type": "markdown",
      "metadata": {
        "id": "CTS-VVpQY01v"
      },
      "source": [
        "## **Model Building**\n",
        "\n",
        "Now, we have done data preprocessing, let's build a CNN model."
      ]
    },
    {
      "cell_type": "code",
      "execution_count": null,
      "metadata": {
        "id": "eaGr-3Noe2TF"
      },
      "outputs": [],
      "source": [
        "#Fixing the seed for random number generators\n",
        "np.random.seed(42)\n",
        "import random\n",
        "random.seed(42)\n",
        "tf.random.set_seed(42)"
      ]
    },
    {
      "cell_type": "markdown",
      "metadata": {
        "id": "AUPPavc_Y01w"
      },
      "source": [
        "### **Model Architecture**\n",
        "- Write a function that returns a sequential model with the following architecture\n",
        " - First Convolutional layer with **16 filters and kernel size of 3x3**. Use the **'same' padding** and provide an **apt input shape**\n",
        " - Add a **LeakyRelu layer** with the **slope equal to 0.1**\n",
        " - Second Convolutional layer with **32 filters and kernel size of 3x3 with 'same' padding**\n",
        " - Another **LeakyRelu** with the **slope equal to 0.1**\n",
        " - A **max-pooling layer** with a **pool size of 2x2**\n",
        " - **Flatten** the output from the previous layer\n",
        " - Add a **dense layer with 32 nodes**\n",
        " - Add a **LeakyRelu layer with slope equal to 0.1**\n",
        " - Add the final **output layer with nodes equal to the number of classes** and **softmax activation**\n",
        " - Compile the model with the **categorical_crossentropy loss, adam optimizers (learning_rate = 0.001), and accuracy metric**. Do not fit the model here, just return the compiled model\n",
        "- Call the function and store the model in a new variable\n",
        "- Print the summary of the model.\n",
        "- Fit the model on the train data with a **validation split of 0.2, batch size = 32, verbose = 1, and 20 epochs**. Store the model building history to use later for visualization."
      ]
    },
    {
      "cell_type": "markdown",
      "metadata": {
        "id": "Uw8pZcNwe2TG"
      },
      "source": [
        "#### **Build and train a CNN model as per the above mentioned architecture**"
      ]
    },
    {
      "cell_type": "code",
      "execution_count": null,
      "metadata": {
        "id": "IQypTFQsY01w"
      },
      "outputs": [],
      "source": [
        "#Importing losses and optimizers modules\n",
        "from tensorflow.keras import losses\n",
        "from tensorflow.keras import optimizers\n",
        "\n",
        "#Define the function\n",
        "def cnn_model_1():\n",
        "    model = Sequential() \n",
        "    model.add(Conv2D(filters=16, kernel_size=(3, 3), padding=\"same\", input_shape=(32, 32, 1)))\n",
        "    model.add(LeakyReLU(0.1))\n",
        "    model.add(Conv2D(filters=32, kernel_size=(3, 3), padding='same'))\n",
        "    model.add(LeakyReLU(0.1))\n",
        "    model.add(MaxPool2D(pool_size=(2, 2)))\n",
        "    model.add(Flatten())\n",
        "    model.add(Dense(32))\n",
        "    model.add(LeakyReLU(0.1))\n",
        "    model.add(Dense(10, activation='softmax'))\n",
        "    #Add layers as per the architecture mentioned above in the same sequence\n",
        "    \n",
        "    #declare adam optimizer with learning rate of 0.001 \n",
        "    adam = tf.keras.optimizers.Adam(learning_rate = 0.001)\n",
        "    \n",
        "    #compile the model\n",
        "    model.compile(loss='categorical_crossentropy', optimizer= 'adam', metrics=['accuracy'])\n",
        "    \n",
        "    return model"
      ]
    },
    {
      "cell_type": "code",
      "execution_count": null,
      "metadata": {
        "id": "dY5NBwb5Y01x"
      },
      "outputs": [],
      "source": [
        "#Build the model\n",
        "model_1 = cnn_model_1()"
      ]
    },
    {
      "cell_type": "code",
      "execution_count": null,
      "metadata": {
        "colab": {
          "base_uri": "https://localhost:8080/"
        },
        "outputId": "60a41616-c08d-4469-e57d-231e8322a3dc",
        "id": "JnzMB3VxY01x"
      },
      "outputs": [
        {
          "name": "stdout",
          "output_type": "stream",
          "text": [
            "Model: \"sequential_1\"\n",
            "_________________________________________________________________\n",
            " Layer (type)                Output Shape              Param #   \n",
            "=================================================================\n",
            " conv2d_4 (Conv2D)           (None, 32, 32, 16)        160       \n",
            "                                                                 \n",
            " leaky_re_lu_5 (LeakyReLU)   (None, 32, 32, 16)        0         \n",
            "                                                                 \n",
            " conv2d_5 (Conv2D)           (None, 32, 32, 32)        4640      \n",
            "                                                                 \n",
            " leaky_re_lu_6 (LeakyReLU)   (None, 32, 32, 32)        0         \n",
            "                                                                 \n",
            " max_pooling2d_2 (MaxPooling  (None, 16, 16, 32)       0         \n",
            " 2D)                                                             \n",
            "                                                                 \n",
            " flatten_1 (Flatten)         (None, 8192)              0         \n",
            "                                                                 \n",
            " dense_2 (Dense)             (None, 32)                262176    \n",
            "                                                                 \n",
            " leaky_re_lu_7 (LeakyReLU)   (None, 32)                0         \n",
            "                                                                 \n",
            " dense_3 (Dense)             (None, 10)                330       \n",
            "                                                                 \n",
            "=================================================================\n",
            "Total params: 267,306\n",
            "Trainable params: 267,306\n",
            "Non-trainable params: 0\n",
            "_________________________________________________________________\n"
          ]
        }
      ],
      "source": [
        "#Print the model summary\n",
        "model_1.summary()"
      ]
    },
    {
      "cell_type": "code",
      "execution_count": null,
      "metadata": {
        "colab": {
          "base_uri": "https://localhost:8080/"
        },
        "outputId": "fb2a9af0-eee8-4f28-811e-39e24f6dc1e5",
        "id": "5W0FvWNsY01x"
      },
      "outputs": [
        {
          "name": "stdout",
          "output_type": "stream",
          "text": [
            "Epoch 1/20\n",
            "1050/1050 [==============================] - 16s 14ms/step - loss: 1.2182 - accuracy: 0.5949 - val_loss: 0.6548 - val_accuracy: 0.8105\n",
            "Epoch 2/20\n",
            "1050/1050 [==============================] - 15s 14ms/step - loss: 0.5286 - accuracy: 0.8497 - val_loss: 0.5036 - val_accuracy: 0.8602\n",
            "Epoch 3/20\n",
            "1050/1050 [==============================] - 16s 16ms/step - loss: 0.4309 - accuracy: 0.8739 - val_loss: 0.5062 - val_accuracy: 0.8544\n",
            "Epoch 4/20\n",
            "1050/1050 [==============================] - 17s 16ms/step - loss: 0.3764 - accuracy: 0.8907 - val_loss: 0.4483 - val_accuracy: 0.8767\n",
            "Epoch 5/20\n",
            "1050/1050 [==============================] - 14s 13ms/step - loss: 0.3322 - accuracy: 0.8998 - val_loss: 0.4629 - val_accuracy: 0.8695\n",
            "Epoch 6/20\n",
            "1050/1050 [==============================] - 13s 12ms/step - loss: 0.2944 - accuracy: 0.9132 - val_loss: 0.4403 - val_accuracy: 0.8781\n",
            "Epoch 7/20\n",
            "1050/1050 [==============================] - 10s 10ms/step - loss: 0.2661 - accuracy: 0.9211 - val_loss: 0.4492 - val_accuracy: 0.8825\n",
            "Epoch 8/20\n",
            "1050/1050 [==============================] - 10s 10ms/step - loss: 0.2388 - accuracy: 0.9277 - val_loss: 0.4788 - val_accuracy: 0.8708\n",
            "Epoch 9/20\n",
            "1050/1050 [==============================] - 10s 10ms/step - loss: 0.2202 - accuracy: 0.9330 - val_loss: 0.4888 - val_accuracy: 0.8739\n",
            "Epoch 10/20\n",
            "1050/1050 [==============================] - 10s 10ms/step - loss: 0.1971 - accuracy: 0.9385 - val_loss: 0.4875 - val_accuracy: 0.8775\n",
            "Epoch 11/20\n",
            "1050/1050 [==============================] - 11s 10ms/step - loss: 0.1732 - accuracy: 0.9470 - val_loss: 0.5432 - val_accuracy: 0.8760\n",
            "Epoch 12/20\n",
            "1050/1050 [==============================] - 10s 10ms/step - loss: 0.1621 - accuracy: 0.9494 - val_loss: 0.5670 - val_accuracy: 0.8694\n",
            "Epoch 13/20\n",
            "1050/1050 [==============================] - 10s 10ms/step - loss: 0.1432 - accuracy: 0.9550 - val_loss: 0.5790 - val_accuracy: 0.8718\n",
            "Epoch 14/20\n",
            "1050/1050 [==============================] - 11s 11ms/step - loss: 0.1288 - accuracy: 0.9601 - val_loss: 0.6110 - val_accuracy: 0.8675\n",
            "Epoch 15/20\n",
            "1050/1050 [==============================] - 11s 10ms/step - loss: 0.1186 - accuracy: 0.9630 - val_loss: 0.6372 - val_accuracy: 0.8712\n",
            "Epoch 16/20\n",
            "1050/1050 [==============================] - 10s 10ms/step - loss: 0.1028 - accuracy: 0.9673 - val_loss: 0.6586 - val_accuracy: 0.8693\n",
            "Epoch 17/20\n",
            "1050/1050 [==============================] - 10s 10ms/step - loss: 0.0905 - accuracy: 0.9714 - val_loss: 0.7158 - val_accuracy: 0.8723\n",
            "Epoch 18/20\n",
            "1050/1050 [==============================] - 10s 9ms/step - loss: 0.0950 - accuracy: 0.9695 - val_loss: 0.7405 - val_accuracy: 0.8670\n",
            "Epoch 19/20\n",
            "1050/1050 [==============================] - 10s 10ms/step - loss: 0.0807 - accuracy: 0.9743 - val_loss: 0.7981 - val_accuracy: 0.8656\n",
            "Epoch 20/20\n",
            "1050/1050 [==============================] - 10s 10ms/step - loss: 0.0737 - accuracy: 0.9759 - val_loss: 0.8178 - val_accuracy: 0.8613\n"
          ]
        }
      ],
      "source": [
        "# Fit the model\n",
        "# validation split of 0.2, batch size = 32, verbose = 1, and 20 epochs\n",
        "history_model_1 = model_1.fit(X_train, \n",
        "                              y_train,\n",
        "                              epochs=20,\n",
        "                              verbose=1,\n",
        "                              validation_split=0.2,\n",
        "                              batch_size=32)"
      ]
    },
    {
      "cell_type": "markdown",
      "metadata": {
        "id": "DuQny7kwY01x"
      },
      "source": [
        "### **Plotting the validation and training accuracies**\n",
        "\n",
        "---\n",
        "\n"
      ]
    },
    {
      "cell_type": "code",
      "execution_count": null,
      "metadata": {
        "colab": {
          "base_uri": "https://localhost:8080/",
          "height": 497
        },
        "outputId": "a6ecbde3-4acc-4dbd-f346-aa25e57a5419",
        "id": "Y54ulhVWY01y"
      },
      "outputs": [
        {
          "data": {
            "image/png": "[encoded data removed]",
            "text/plain": [
              "<Figure size 576x576 with 1 Axes>"
            ]
          },
          "metadata": {
            "needs_background": "light"
          },
          "output_type": "display_data"
        }
      ],
      "source": [
        "# plotting the accuracies\n",
        "\n",
        "dict_hist = history_model_1.history\n",
        "list_ep = [i for i in range(1,21)]\n",
        "\n",
        "plt.figure(figsize = (8,8))\n",
        "plt.plot(list_ep,dict_hist['accuracy'],ls = '--', label = 'accuracy')\n",
        "plt.plot(list_ep,dict_hist['val_accuracy'],ls = '--', label = 'val_accuracy')\n",
        "plt.ylabel('Accuracy')\n",
        "plt.xlabel('Epochs')\n",
        "plt.legend()\n",
        "plt.show()"
      ]
    },
    {
      "cell_type": "markdown",
      "metadata": {
        "id": "S8cm5Fv3Y01y"
      },
      "source": [
        "**Observations:**\n",
        "\n",
        "* As we can see our model works poorly on the validation data. \n",
        "* Our model seems to be overfitting the training data.\n",
        "* As we can see the validation accuracy levels down after 2.5 epochs."
      ]
    },
    {
      "cell_type": "markdown",
      "metadata": {
        "id": "hCJrzc-JY01z"
      },
      "source": [
        "Let's build another model and see if we can get a better model with generalized performance.\n",
        "\n",
        "First, we need to clear the previous model's history from the keras backend. Also, let's fix the seed again after clearing the backend."
      ]
    },
    {
      "cell_type": "code",
      "execution_count": null,
      "metadata": {
        "id": "VV7hYzpTY01z"
      },
      "outputs": [],
      "source": [
        "#Clearing backend\n",
        "from tensorflow.keras import backend\n",
        "backend.clear_session()"
      ]
    },
    {
      "cell_type": "code",
      "execution_count": null,
      "metadata": {
        "id": "CzqNWWftY01z"
      },
      "outputs": [],
      "source": [
        "#Fixing the seed for random number generators\n",
        "np.random.seed(42)\n",
        "import random\n",
        "random.seed(42)\n",
        "tf.random.set_seed(42)"
      ]
    },
    {
      "cell_type": "markdown",
      "metadata": {
        "id": "K7PnDYOvY010"
      },
      "source": [
        "### **Second Model Architecture**\n",
        "- Write a function that returns a sequential model with the following architecture\n",
        " - First Convolutional layer with **16 filters and kernel size of 3x3**. Use the **'same' padding** and provide an **apt input shape**\n",
        " - Add a **LeakyRelu layer** with the **slope equal to 0.1**\n",
        " - Second Convolutional layer with **32 filters and kernel size of 3x3 with 'same' padding**\n",
        " - Add **LeakyRelu** with the **slope equal to 0.1**\n",
        " - Add a **max-pooling layer** with a **pool size of 2x2**\n",
        " - Add a **BatchNormalization layer**\n",
        " - Third Convolutional layer with **32 filters and kernel size of 3x3 with 'same' padding**\n",
        " - Add a **LeakyRelu layer with slope equal to 0.1**\n",
        " - Fourth Convolutional layer **64 filters and kernel size of 3x3 with 'same' padding** \n",
        " - Add a **LeakyRelu layer with slope equal to 0.1**\n",
        " - Add a **max-pooling layer** with a **pool size of 2x2**\n",
        " - Add a **BatchNormalization layer**\n",
        " - **Flatten** the output from the previous layer\n",
        " - Add a **dense layer with 32 nodes**\n",
        " - Add a **LeakyRelu layer with slope equal to 0.1**\n",
        " - Add a **dropout layer with rate equal to 0.5**\n",
        " - Add the final **output layer with nodes equal to the number of classes** and **softmax activation**\n",
        " - Compile the model with the **categorical_crossentropy loss, adam optimizers (learning_rate = 0.001), and accuracy metric**. Do not fit the model here, just return the compiled model\n",
        "- Call the function and store the model in a new variable\n",
        "- Print the summary of the model.\n",
        "- Fit the model on the train data with a **validation split of 0.2, batch size = 128, verbose = 1, and 30 epochs**. Store the model building history to use later for visualization."
      ]
    },
    {
      "cell_type": "markdown",
      "metadata": {
        "id": "Sr-bwBT2e2TJ"
      },
      "source": [
        "#### **Build and train the second CNN model as per the above mentioned architecture**"
      ]
    },
    {
      "cell_type": "code",
      "execution_count": null,
      "metadata": {
        "id": "-0mNLRD6Y013"
      },
      "outputs": [],
      "source": [
        "from tensorflow.python.keras.backend import dropout\n",
        "#Define the function\n",
        "def cnn_model_2():\n",
        "    model = Sequential() \n",
        "    model.add(Conv2D(filters=16, kernel_size=(3, 3), padding=\"same\", input_shape=(32, 32, 1)))\n",
        "    model.add(LeakyReLU(0.1))\n",
        "    model.add(Conv2D(filters=32, kernel_size=(3, 3), padding='same'))\n",
        "    model.add(LeakyReLU(0.1))\n",
        "    model.add(MaxPool2D(pool_size=(2, 2)))\n",
        "    model.add(BatchNormalization())\n",
        "    model.add(Conv2D(filters=32, kernel_size=(3, 3), padding='same'))\n",
        "    model.add(LeakyReLU(0.1))\n",
        "    model.add(Conv2D(filters=64, kernel_size=(3, 3), padding='same'))\n",
        "    model.add(LeakyReLU(0.1))\n",
        "    model.add(MaxPool2D(pool_size=(2, 2)))\n",
        "    model.add(BatchNormalization())\n",
        "    model.add(Flatten())\n",
        "    model.add(Dense(32))\n",
        "    model.add(LeakyReLU(0.1)) \n",
        "    model.add(Dropout(0.5))\n",
        "    model.add(Dense(10, activation='softmax'))\n",
        "    #Add layers as per the architecture mentioned above in the same sequence\n",
        "    \n",
        "    #declare adam optimizer with learning rate of 0.001 \n",
        "    adam = tf.keras.optimizers.Adam(learning_rate = 0.001)\n",
        "    \n",
        "    #compile the model\n",
        "    model.compile(loss='categorical_crossentropy', optimizer= 'adam', metrics=['accuracy'])\n",
        "    \n",
        "    return model"
      ]
    },
    {
      "cell_type": "code",
      "execution_count": null,
      "metadata": {
        "id": "nX6pG9uCY014"
      },
      "outputs": [],
      "source": [
        "# Build the model\n",
        "model_2 = cnn_model_2()"
      ]
    },
    {
      "cell_type": "code",
      "execution_count": null,
      "metadata": {
        "colab": {
          "base_uri": "https://localhost:8080/"
        },
        "outputId": "177d988a-e1f8-4476-e2ce-528387020c0c",
        "id": "nCq_0GbvY014"
      },
      "outputs": [
        {
          "name": "stdout",
          "output_type": "stream",
          "text": [
            "Model: \"sequential\"\n",
            "_________________________________________________________________\n",
            " Layer (type)                Output Shape              Param #   \n",
            "=================================================================\n",
            " conv2d (Conv2D)             (None, 32, 32, 16)        160       \n",
            "                                                                 \n",
            " leaky_re_lu (LeakyReLU)     (None, 32, 32, 16)        0         \n",
            "                                                                 \n",
            " conv2d_1 (Conv2D)           (None, 32, 32, 32)        4640      \n",
            "                                                                 \n",
            " leaky_re_lu_1 (LeakyReLU)   (None, 32, 32, 32)        0         \n",
            "                                                                 \n",
            " max_pooling2d (MaxPooling2D  (None, 16, 16, 32)       0         \n",
            " )                                                               \n",
            "                                                                 \n",
            " batch_normalization (BatchN  (None, 16, 16, 32)       128       \n",
            " ormalization)                                                   \n",
            "                                                                 \n",
            " conv2d_2 (Conv2D)           (None, 16, 16, 32)        9248      \n",
            "                                                                 \n",
            " leaky_re_lu_2 (LeakyReLU)   (None, 16, 16, 32)        0         \n",
            "                                                                 \n",
            " conv2d_3 (Conv2D)           (None, 16, 16, 64)        18496     \n",
            "                                                                 \n",
            " leaky_re_lu_3 (LeakyReLU)   (None, 16, 16, 64)        0         \n",
            "                                                                 \n",
            " max_pooling2d_1 (MaxPooling  (None, 8, 8, 64)         0         \n",
            " 2D)                                                             \n",
            "                                                                 \n",
            " batch_normalization_1 (Batc  (None, 8, 8, 64)         256       \n",
            " hNormalization)                                                 \n",
            "                                                                 \n",
            " flatten (Flatten)           (None, 4096)              0         \n",
            "                                                                 \n",
            " dense (Dense)               (None, 32)                131104    \n",
            "                                                                 \n",
            " leaky_re_lu_4 (LeakyReLU)   (None, 32)                0         \n",
            "                                                                 \n",
            " dropout (Dropout)           (None, 32)                0         \n",
            "                                                                 \n",
            " dense_1 (Dense)             (None, 10)                330       \n",
            "                                                                 \n",
            "=================================================================\n",
            "Total params: 164,362\n",
            "Trainable params: 164,170\n",
            "Non-trainable params: 192\n",
            "_________________________________________________________________\n"
          ]
        }
      ],
      "source": [
        "#Print the summary\n",
        "model_2.summary()"
      ]
    },
    {
      "cell_type": "code",
      "execution_count": null,
      "metadata": {
        "colab": {
          "base_uri": "https://localhost:8080/"
        },
        "outputId": "3fb8bf50-f835-4fce-e2a6-b5fddf6c923e",
        "id": "BzaO7n1AY014"
      },
      "outputs": [
        {
          "name": "stdout",
          "output_type": "stream",
          "text": [
            "Epoch 1/30\n",
            "263/263 [==============================] - 7s 23ms/step - loss: 1.4717 - accuracy: 0.4982 - val_loss: 2.7883 - val_accuracy: 0.2123\n",
            "Epoch 2/30\n",
            "263/263 [==============================] - 6s 21ms/step - loss: 0.6916 - accuracy: 0.7866 - val_loss: 0.6618 - val_accuracy: 0.7970\n",
            "Epoch 3/30\n",
            "263/263 [==============================] - 6s 22ms/step - loss: 0.5662 - accuracy: 0.8277 - val_loss: 0.5438 - val_accuracy: 0.8387\n",
            "Epoch 4/30\n",
            "263/263 [==============================] - 6s 22ms/step - loss: 0.5016 - accuracy: 0.8454 - val_loss: 0.6551 - val_accuracy: 0.7971\n",
            "Epoch 5/30\n",
            "263/263 [==============================] - 6s 21ms/step - loss: 0.4508 - accuracy: 0.8651 - val_loss: 0.4067 - val_accuracy: 0.8904\n",
            "Epoch 6/30\n",
            "263/263 [==============================] - 6s 22ms/step - loss: 0.4101 - accuracy: 0.8721 - val_loss: 0.3869 - val_accuracy: 0.8914\n",
            "Epoch 7/30\n",
            "263/263 [==============================] - 6s 21ms/step - loss: 0.3842 - accuracy: 0.8821 - val_loss: 0.4954 - val_accuracy: 0.8574\n",
            "Epoch 8/30\n",
            "263/263 [==============================] - 6s 22ms/step - loss: 0.3642 - accuracy: 0.8871 - val_loss: 0.3856 - val_accuracy: 0.8880\n",
            "Epoch 9/30\n",
            "263/263 [==============================] - 6s 22ms/step - loss: 0.3363 - accuracy: 0.8951 - val_loss: 0.4067 - val_accuracy: 0.8832\n",
            "Epoch 10/30\n",
            "263/263 [==============================] - 6s 23ms/step - loss: 0.3188 - accuracy: 0.8996 - val_loss: 0.3557 - val_accuracy: 0.9024\n",
            "Epoch 11/30\n",
            "263/263 [==============================] - 6s 22ms/step - loss: 0.3014 - accuracy: 0.9052 - val_loss: 0.3612 - val_accuracy: 0.9046\n",
            "Epoch 12/30\n",
            "263/263 [==============================] - 6s 22ms/step - loss: 0.2811 - accuracy: 0.9096 - val_loss: 0.4259 - val_accuracy: 0.9019\n",
            "Epoch 13/30\n",
            "263/263 [==============================] - 6s 22ms/step - loss: 0.2729 - accuracy: 0.9126 - val_loss: 0.4683 - val_accuracy: 0.8832\n",
            "Epoch 14/30\n",
            "263/263 [==============================] - 6s 23ms/step - loss: 0.2668 - accuracy: 0.9158 - val_loss: 0.4350 - val_accuracy: 0.8802\n",
            "Epoch 15/30\n",
            "263/263 [==============================] - 6s 22ms/step - loss: 0.2483 - accuracy: 0.9192 - val_loss: 0.3634 - val_accuracy: 0.9107\n",
            "Epoch 16/30\n",
            "263/263 [==============================] - 6s 22ms/step - loss: 0.2453 - accuracy: 0.9218 - val_loss: 0.3877 - val_accuracy: 0.9081\n",
            "Epoch 17/30\n",
            "263/263 [==============================] - 6s 22ms/step - loss: 0.2412 - accuracy: 0.9222 - val_loss: 0.3763 - val_accuracy: 0.9110\n",
            "Epoch 18/30\n",
            "263/263 [==============================] - 6s 22ms/step - loss: 0.2192 - accuracy: 0.9281 - val_loss: 0.3803 - val_accuracy: 0.9063\n",
            "Epoch 19/30\n",
            "263/263 [==============================] - 6s 22ms/step - loss: 0.2136 - accuracy: 0.9319 - val_loss: 0.4026 - val_accuracy: 0.9000\n",
            "Epoch 20/30\n",
            "263/263 [==============================] - 6s 22ms/step - loss: 0.2015 - accuracy: 0.9355 - val_loss: 0.3936 - val_accuracy: 0.9040\n",
            "Epoch 21/30\n",
            "263/263 [==============================] - 6s 22ms/step - loss: 0.1957 - accuracy: 0.9365 - val_loss: 0.4049 - val_accuracy: 0.9065\n",
            "Epoch 22/30\n",
            "263/263 [==============================] - 6s 22ms/step - loss: 0.1853 - accuracy: 0.9393 - val_loss: 0.3840 - val_accuracy: 0.9126\n",
            "Epoch 23/30\n",
            "263/263 [==============================] - 6s 22ms/step - loss: 0.1856 - accuracy: 0.9405 - val_loss: 0.4366 - val_accuracy: 0.9033\n",
            "Epoch 24/30\n",
            "263/263 [==============================] - 6s 22ms/step - loss: 0.1854 - accuracy: 0.9396 - val_loss: 0.4005 - val_accuracy: 0.9142\n",
            "Epoch 25/30\n",
            "263/263 [==============================] - 6s 22ms/step - loss: 0.1773 - accuracy: 0.9404 - val_loss: 0.4365 - val_accuracy: 0.9089\n",
            "Epoch 26/30\n",
            "263/263 [==============================] - 6s 22ms/step - loss: 0.1751 - accuracy: 0.9413 - val_loss: 0.4630 - val_accuracy: 0.9089\n",
            "Epoch 27/30\n",
            "263/263 [==============================] - 6s 22ms/step - loss: 0.1620 - accuracy: 0.9466 - val_loss: 0.4481 - val_accuracy: 0.9124\n",
            "Epoch 28/30\n",
            "263/263 [==============================] - 6s 22ms/step - loss: 0.1594 - accuracy: 0.9457 - val_loss: 0.4144 - val_accuracy: 0.9132\n",
            "Epoch 29/30\n",
            "263/263 [==============================] - 6s 22ms/step - loss: 0.1534 - accuracy: 0.9481 - val_loss: 0.4403 - val_accuracy: 0.9083\n",
            "Epoch 30/30\n",
            "263/263 [==============================] - 6s 22ms/step - loss: 0.1550 - accuracy: 0.9486 - val_loss: 0.4213 - val_accuracy: 0.9160\n"
          ]
        }
      ],
      "source": [
        "# Fit the model\n",
        "# validation split of 0.2, batch size = 128, verbose = 1, and 30 epochs\n",
        "history_model_2 = model_2.fit(X_train, \n",
        "                              y_train,\n",
        "                              epochs=30,\n",
        "                              verbose=1,\n",
        "                              validation_split=0.2,\n",
        "                              batch_size=128)"
      ]
    },
    {
      "cell_type": "markdown",
      "metadata": {
        "id": "0_f1EXmTe2TK"
      },
      "source": [
        "### **Plotting the validation and training accuracies**"
      ]
    },
    {
      "cell_type": "code",
      "execution_count": null,
      "metadata": {
        "colab": {
          "base_uri": "https://localhost:8080/",
          "height": 497
        },
        "outputId": "842ea6e4-85ca-474a-c8c8-7f92406d7ba2",
        "id": "H8D1ZuUGY015"
      },
      "outputs": [
        {
          "data": {
            "image/png": "[encoded data removed]",
            "text/plain": [
              "<Figure size 576x576 with 1 Axes>"
            ]
          },
          "metadata": {
            "needs_background": "light"
          },
          "output_type": "display_data"
        }
      ],
      "source": [
        "# plotting the accuracies\n",
        "\n",
        "dict_hist = history_model_2.history\n",
        "list_ep = [i for i in range(1,31)]\n",
        "\n",
        "plt.figure(figsize = (8,8))\n",
        "plt.plot(list_ep,dict_hist['accuracy'],ls = '--', label = 'accuracy')\n",
        "plt.plot(list_ep,dict_hist['val_accuracy'],ls = '--', label = 'val_accuracy')\n",
        "plt.ylabel('Accuracy')\n",
        "plt.xlabel('Epochs')\n",
        "plt.legend()\n",
        "plt.show()"
      ]
    },
    {
      "cell_type": "markdown",
      "metadata": {
        "id": "CrzaFlljY015"
      },
      "source": [
        "**Observations:**\n",
        "\n",
        "* Our new model is performing substantially better on the validation data and is no longer overfitting the training data. \n",
        "* Our model is giving a generalized performance with 91% accuracy on the validation data and a 94% on the training data.\n",
        "* In some epochs, the validation accuracy is higher than the training validation. This might be due to the small size of the validation set and the model is able to correctly classify the data points in the validation set.\n"
      ]
    },
    {
      "cell_type": "markdown",
      "metadata": {
        "id": "J9_CLuB2Y016"
      },
      "source": [
        "## **Predictions on the test data**\n",
        "\n",
        "- Make predictions on the test set using the second model\n",
        "- Print the obtained results using the classification report and the confusion matrix\n",
        "- Final observations from the obtained results"
      ]
    },
    {
      "cell_type": "markdown",
      "metadata": {
        "id": "yfZwC9OUe2TL"
      },
      "source": [
        "#### **Make predictions on the test data using the second model**"
      ]
    },
    {
      "cell_type": "code",
      "execution_count": null,
      "metadata": {
        "id": "4V_dIji_Y016"
      },
      "outputs": [],
      "source": [
        "#Make prediction on the test data using model_2 \n",
        "test_pred = model_2.predict(X_test)\n",
        "\n",
        "test_pred = np.argmax(test_pred, axis=-1)"
      ]
    },
    {
      "cell_type": "markdown",
      "metadata": {
        "id": "0oGx8ffDY016"
      },
      "source": [
        "**Note:** Earlier, we noticed that each entry of the test data is a one-hot encoded vector but to print the classification report and confusion matrix, we must convert each entry of y_test to a single label."
      ]
    },
    {
      "cell_type": "code",
      "execution_count": null,
      "metadata": {
        "id": "zMYWpKjHY016"
      },
      "outputs": [],
      "source": [
        "#Converting each entry to single label from one-hot encoded vector\n",
        "y_test = np.argmax(y_test, axis=-1)"
      ]
    },
    {
      "cell_type": "code",
      "execution_count": null,
      "metadata": {
        "colab": {
          "base_uri": "https://localhost:8080/",
          "height": 633
        },
        "outputId": "d1cf2055-f9bb-4559-cbcf-27b470f614d2",
        "id": "hbQmhOk4Y017"
      },
      "outputs": [
        {
          "name": "stdout",
          "output_type": "stream",
          "text": [
            "              precision    recall  f1-score   support\n",
            "\n",
            "           0       0.93      0.94      0.93      1814\n",
            "           1       0.91      0.91      0.91      1828\n",
            "           2       0.92      0.92      0.92      1803\n",
            "           3       0.89      0.88      0.89      1719\n",
            "           4       0.93      0.93      0.93      1812\n",
            "           5       0.91      0.91      0.91      1768\n",
            "           6       0.91      0.90      0.90      1832\n",
            "           7       0.94      0.92      0.93      1808\n",
            "           8       0.86      0.92      0.89      1812\n",
            "           9       0.92      0.90      0.91      1804\n",
            "\n",
            "    accuracy                           0.91     18000\n",
            "   macro avg       0.91      0.91      0.91     18000\n",
            "weighted avg       0.91      0.91      0.91     18000\n",
            "\n"
          ]
        },
        {
          "data": {
            "image/png": "[encoded data removed]",
            "text/plain": [
              "<Figure size 576x360 with 2 Axes>"
            ]
          },
          "metadata": {
            "needs_background": "light"
          },
          "output_type": "display_data"
        }
      ],
      "source": [
        "#importing required functions\n",
        "from sklearn.metrics import classification_report\n",
        "from sklearn.metrics import confusion_matrix\n",
        "\n",
        "#Printing the classification report\n",
        "print(classification_report(y_test, test_pred))\n",
        "\n",
        "#Plotting the heatmap using confusion matrix\n",
        "cm = confusion_matrix(y_test, test_pred)\n",
        "plt.figure(figsize=(8,5))\n",
        "sns.heatmap(cm, annot=True,  fmt='.0f')\n",
        "plt.ylabel('Actual')\n",
        "plt.xlabel('Predicted')\n",
        "plt.show()"
      ]
    },
    {
      "cell_type": "markdown",
      "metadata": {
        "id": "FT-OGyxYY018"
      },
      "source": [
        "#### **Observations:**\n",
        "\n",
        "* Our model is giving us a 91% accuracy on the test data which is comparable to the accuracy of the validation data. \n",
        "* Our model is giving a generalized performance with high accuracy.\n",
        "* The recall is overall quite high (around the 90%'s), meaning that the model is great at identifying all the digits.\n",
        "* Likewise, the precision is overall quite high (around the 90%'s) with the highest precision is for 7, meaning that the model is able to correctly distinguish 7's from other digits."
      ]
    }
  ],
  "metadata": {
    "accelerator": "TPU",
    "colab": {
      "collapsed_sections": [],
      "name": "NNmerged.ipynb",
      "provenance": [],
      "include_colab_link": true
    },
    "kernelspec": {
      "display_name": "Python 3",
      "language": "python",
      "name": "python3"
    },
    "language_info": {
      "codemirror_mode": {
        "name": "ipython",
        "version": 3
      },
      "file_extension": ".py",
      "mimetype": "text/x-python",
      "name": "python",
      "nbconvert_exporter": "python",
      "pygments_lexer": "ipython3",
      "version": "3.8.5"
    }
  },
  "nbformat": 4,
  "nbformat_minor": 0
}